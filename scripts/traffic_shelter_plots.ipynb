{
 "cells": [
  {
   "cell_type": "markdown",
   "id": "2306dad9",
   "metadata": {},
   "source": [
    "# Plotting Traffic Data and Shelters"
   ]
  },
  {
   "cell_type": "code",
   "execution_count": 1,
   "id": "b447bef9",
   "metadata": {},
   "outputs": [],
   "source": [
    "# Loading libraries\n",
    "import geopandas as gpd\n",
    "import pandas as pd\n",
    "import plotly.express as px\n",
    "import sys\n",
    "import os"
   ]
  },
  {
   "cell_type": "code",
   "execution_count": 2,
   "id": "2a486f3d",
   "metadata": {},
   "outputs": [],
   "source": [
    "# Load the shelter data\n",
    "shelter_data  = gpd.read_file(os.path.join('..','data','shelters23.geojson')) \n",
    "\n",
    "# Load the real-time movement data \n",
    "traffic_data = pd.read_csv('b3eeb0ff-c8a8-4824-99d6-e0a3747c8b0d.csv') # Accessed from OpenData\n",
    "road_data = pd.read_csv('c3097987-c394-4092-ad1d-ad86a81dbf37.csv') # Accessed from OpenData"
   ]
  },
  {
   "cell_type": "code",
   "execution_count": 3,
   "id": "e732fd7c",
   "metadata": {},
   "outputs": [],
   "source": [
    "# merge traffic and road data\n",
    "merged_data = pd.merge(traffic_data, road_data, on='_id')\n",
    "\n",
    "# filter to only get those with > 0 vehicle count and below 70 (to remove outliers outside of aarhus c)\n",
    "merged_data = merged_data[merged_data['vehicleCount'] > 0]\n",
    "merged_data = merged_data[merged_data['vehicleCount'] < 70]"
   ]
  },
  {
   "cell_type": "code",
   "execution_count": 4,
   "id": "24265809",
   "metadata": {},
   "outputs": [],
   "source": [
    "# Create a DataFrame with the required columns\n",
    "map_data = merged_data[['POINT_2_LAT', 'POINT_2_LNG', 'vehicleCount']].copy()"
   ]
  },
  {
   "cell_type": "code",
   "execution_count": 6,
   "id": "8b6be2f5",
   "metadata": {},
   "outputs": [
    {
     "data": {
      "application/vnd.plotly.v1+json": {
       "config": {
        "plotlyServerURL": "https://plot.ly"
       },
       "data": [
        {
         "hovertemplate": "<b>%{hovertext}</b><br><br>vehiclecount=%{marker.color}<br>point_2_lat=%{lat}<br>point_2_lng=%{lon}<extra></extra>",
         "hovertext": [
          9,
          4,
          20,
          6,
          9,
          25,
          24,
          23,
          12,
          17,
          13,
          9,
          27,
          26,
          24,
          2,
          47,
          47,
          10,
          27,
          47,
          43,
          15,
          2
         ],
         "lat": [
          56.09926842434083,
          56.17389164456407,
          56.20496203409241,
          56.19765179702361,
          56.16389697427008,
          56.1404960893661,
          56.114487,
          56.136738858609256,
          56.11996007421442,
          56.16798814878688,
          56.16929516572502,
          56.16813760017301,
          56.15498346925998,
          56.20852026816215,
          56.1627072781356,
          56.15277635666379,
          56.16067987450192,
          56.1938959,
          56.1007133879888,
          56.13379045266213,
          56.13631851768175,
          56.13631851768175,
          56.1152766706732,
          56.206944
         ],
         "legendgroup": "",
         "lon": [
          10.209020390213029,
          10.182183959489976,
          10.259470361936565,
          10.228639215938529,
          10.18616224669654,
          10.154132957008414,
          10.207854230653766,
          10.20776318039134,
          10.083678288360602,
          10.151387677246134,
          10.194526468751974,
          10.20690854480938,
          10.182616305557303,
          10.161038385250096,
          10.139116813491796,
          10.186054185032845,
          10.209273397922516,
          10.1644778,
          10.062790576721229,
          10.196221089566734,
          10.03646807117458,
          10.03646807117458,
          10.066137313842772,
          10.167222
         ],
         "marker": {
          "color": [
           9,
           4,
           20,
           6,
           9,
           25,
           24,
           23,
           12,
           17,
           13,
           9,
           27,
           26,
           24,
           2,
           47,
           47,
           10,
           27,
           47,
           43,
           15,
           2
          ],
          "coloraxis": "coloraxis",
          "size": [
           9,
           4,
           20,
           6,
           9,
           25,
           24,
           23,
           12,
           17,
           13,
           9,
           27,
           26,
           24,
           2,
           47,
           47,
           10,
           27,
           47,
           43,
           15,
           2
          ],
          "sizemode": "area",
          "sizeref": 0.1175
         },
         "mode": "markers",
         "name": "",
         "showlegend": false,
         "subplot": "mapbox",
         "type": "scattermapbox"
        },
        {
         "hovertemplate": "<b>%{hovertext}</b><br><br>lat=%{lat}<br>lng=%{lon}<extra></extra>",
         "hovertext": [
          "200-{Shelter_Type_II}",
          "201-{Other}",
          "202-{Other}",
          "203-{Other}",
          "204-{Other}",
          "205-{Other}",
          "206-{Other}",
          "207-{Shelter_Type_III}",
          "208-{Shelter_Type_III}",
          "209-{Shelter_Type_III}",
          "210-{Shelter_Type_III}",
          "211-{Shelter_Type_III}",
          "212-{Shelter_Type_III}",
          "213-{Shelter_Type_III}",
          "214-{Shelter_Type_III}",
          "-",
          "215-{Shelter_Type_III}",
          "216-{Shelter_Type_III}",
          "217-{Shelter_Type_III}",
          "218-{Shelter_Type_III}",
          "219-{Shelter_Type_III}",
          "220-{Shelter_Type_III}",
          "221-{Other}",
          "222-{Other}",
          "223-{Shelter_Type_III}",
          "224-{Shelter_Type_III}",
          "225-{Shelter_Type_III}",
          "226-{Shelter_Type_III}",
          "227-{Shelter_Type_III}",
          "228-{Shelter_Type_III}",
          "229-{Shelter_Type_III}",
          "230-{Shelter_Type_VI}",
          "231-{Shelter_Type_III}",
          "232-{Shelter_Type_III}",
          "233-{Shelter_Type_III}",
          "100-{Shelter_Type_III}",
          "234-{Shelter_Type_III}",
          "235-{Shelter_Type_III}",
          "101-{Shelter_Type_III}",
          "102-{Shelter_Type_III}",
          "236-{Shelter_Type_III}",
          "103-{Shelter_Type_III}",
          "104-{Shelter_Type_III}",
          "105-{Shelter_Type_III}",
          "237-{Shelter_Type_III}",
          "106-{Shelter_Type_III}",
          "238-{Shelter_Type_III}",
          "107-{Shelter_Type_III}",
          "108-{Shelter_Type_III}",
          "109-{Shelter_Type_III}",
          "110-{Shelter_Type_III}",
          "111-{Shelter_Type_III}",
          "112-{Shelter_Type_III}",
          "113-{Shelter_Type_III}",
          "114-{Shelter_Type_III}",
          "115-{Shelter_Type_III}",
          "116-{Shelter_Type_III}",
          "117-{Shelter_Type_III}",
          "118-{Shelter_Type_III}",
          "119-{Shelter_Type_III}",
          "120-{Shelter_Type_III}",
          "121-{Shelter_Type_III}",
          "122-{Shelter_Type_III}",
          "123-{Shelter_Type_III}",
          "124-{Shelter_Type_III}",
          "125-{Shelter_Type_III}",
          "126-{Shelter_Type_III}",
          "127-{Shelter_Type_III}",
          "239-{Shelter_Type_III}",
          "128-{Shelter_Type_III}",
          "240-{Shelter_Type_III}",
          "241-{Shelter_Type_III}",
          "242-{Shelter_Type_III}",
          "129-{Shelter_Type_III}",
          "243-{Shelter_Type_III}",
          "130-{Shelter_Type_III}",
          "244-{Shelter_Type_III}",
          "131-{Shelter_Type_III}",
          "245-{Shelter_Type_III}",
          "132-{Other}",
          "246-{Other}",
          "133-{Shelter_Type_IV}",
          "247-{Shelter_Type_III}",
          "248-{Shelter_Type_III}",
          "134-{Shelter_Type_III}",
          "135-{Shelter_Type_IV}",
          "249-{Shelter_Type_III}",
          "250-{Shelter_Type_III}",
          "251-{Shelter_Type_III}",
          "136-{Shelter_Type_III}",
          "252-{Shelter_Type_V}",
          "137-{Shelter_Type_III}",
          "253-{Shelter_Type_III}",
          "138-{Shelter_Type_III}",
          "254-{Shelter_Type_III}",
          "139-{Shelter_Type_III}",
          "255-{Shelter_Type_III}",
          "140-{Shelter_Type_III}",
          "256-{Shelter_Type_IV}",
          "141-{Shelter_Type_III}",
          "257-{Shelter_Type_III}",
          "258-{Shelter_Type_III}",
          "259-{Shelter_Type_III}",
          "260-{Shelter_Type_III}",
          "142-{Shelter_Type_III}",
          "261-{Shelter_Type_I}",
          "262-{Shelter_Type_III}",
          "263-{Shelter_Type_III}",
          "264-{Shelter_Type_III}",
          "265-{Shelter_Type_III}",
          "266-{Shelter_Type_III}",
          "267-{Shelter_Type_III}",
          "268-{Shelter_Type_III}",
          "269-{Shelter_Type_III}",
          "270-{Shelter_Type_IV}",
          "271-{Shelter_Type_III}",
          "272-{Shelter_Type_III}",
          "273-{Shelter_Type_III}",
          "274-{Other}",
          "275-{Shelter_Type_III}",
          "276-{Shelter_Type_III}",
          "277-{Other}",
          "166-{Shelter_Type_III}",
          "167-{Shelter_Type_III}",
          "168-{Shelter_Type_III}",
          "169-{Shelter_Type_III}",
          "170-{Shelter_Type_IV}",
          "171-{Shelter_Type_III}",
          "172-{Shelter_Type_III}",
          "173-{Shelter_Type_VI}",
          "174-{Shelter_Type_VI}",
          "175-{Shelter_Type_VI}",
          "176-{Shelter_Type_III}",
          "177-{Shelter_Type_III}",
          "178-{Shelter_Type_III}",
          "179-{Shelter_Type_III}",
          "180-{Shelter_Type_III}",
          "181-{Shelter_Type_III}",
          "182-{Shelter_Type_III}",
          "183-{Shelter_Type_IV}",
          "184-{Shelter_Type_III}",
          "185-{Shelter_Type_III}",
          "186-{Shelter_Type_IV}"
         ],
         "lat": [
          56.14344081666667,
          56.14364712630468,
          56.14374704313749,
          56.143845954130704,
          56.14397180015376,
          56.14398107225458,
          56.144083658055415,
          56.14091887498927,
          56.13990718079035,
          56.13970771599126,
          56.1383547473629,
          56.13827036115713,
          56.13627154104743,
          56.136394254954496,
          56.13312011752011,
          56.13317362620678,
          56.13618129337341,
          56.13621508193549,
          56.13625212813375,
          56.13616929948073,
          56.13625164386577,
          56.14549269365404,
          56.14041566741725,
          56.140584710255986,
          56.13950341769264,
          56.13949092718062,
          56.139696528538,
          56.13991271949235,
          56.13996291026706,
          56.14007787683858,
          56.14021653650239,
          56.14057183101715,
          56.14140122252368,
          56.141448570536134,
          56.14131351609982,
          56.15670731666667,
          56.14152738819127,
          56.142211169954805,
          56.15683501666667,
          56.156769483333335,
          56.142089393043705,
          56.15684295,
          56.15688946666667,
          56.15700995,
          56.142802682751146,
          56.1572059,
          56.14283278853079,
          56.156987916666665,
          56.15638533333333,
          56.1567384,
          56.156952583333336,
          56.15707145,
          56.17083775,
          56.170669466666666,
          56.17051791666667,
          56.170345483333335,
          56.17037355,
          56.16810503333333,
          56.173913,
          56.173723833333334,
          56.17571795,
          56.1756171,
          56.17411761666666,
          56.17242585,
          56.17184348333333,
          56.17172635,
          56.170582366666665,
          56.16852731666667,
          56.1302764,
          56.168543983333336,
          56.13068091666667,
          56.130841116666666,
          56.12992801666667,
          56.16268035,
          56.125327133333336,
          56.1628057,
          56.1253619,
          56.163008016666666,
          56.127255383333335,
          56.162991,
          56.1297784,
          56.165391166666666,
          56.14013443333333,
          56.140003883333335,
          56.1561945,
          56.155196366666665,
          56.14089533333333,
          56.14101268333334,
          56.14122735,
          56.15388456666667,
          56.14496225,
          56.1543069,
          56.1445186,
          56.15424655,
          56.14443741666667,
          56.150849533333336,
          56.14346208333333,
          56.148286066666664,
          56.14584516666667,
          56.14640943333333,
          56.1448745,
          56.1452952,
          56.14787808333333,
          56.14787773333333,
          56.153262,
          56.14881896666667,
          56.16666128333333,
          56.166376283333335,
          56.165768433333334,
          56.16167516666667,
          56.16184925,
          56.16213033333333,
          56.162397066666664,
          56.1640948,
          56.16739798333333,
          56.174308866666664,
          56.17449775,
          56.18119605,
          56.179861116666665,
          56.17271448333333,
          56.169430283333334,
          56.176383533333336,
          56.164006216666664,
          56.1637706,
          56.16365733333333,
          56.163564183333335,
          56.16069196666667,
          56.16137511666667,
          56.153729266666666,
          56.15008676666667,
          56.14988006666667,
          56.15863301666667,
          56.17771368333333,
          56.17763781666667,
          56.1776762,
          56.17841225,
          56.178384083333334,
          56.178406816666666,
          56.178301266666665,
          56.17932906666667,
          56.17948205,
          56.17931125,
          56.18320778333333
         ],
         "legendgroup": "",
         "lon": [
          10.207442433333334,
          10.207552548068271,
          10.207556042657778,
          10.207612682714016,
          10.207398993260336,
          10.207324881053337,
          10.20727037388368,
          10.204309661388685,
          10.205352865361917,
          10.205550418080902,
          10.205172766297157,
          10.205125750392927,
          10.201804923580282,
          10.201624627953183,
          10.19781432374682,
          10.197743069536664,
          10.19497391427086,
          10.194996132444674,
          10.194719032842762,
          10.194557205093346,
          10.194280586334797,
          10.209440179447729,
          10.175514957767252,
          10.176307992089251,
          10.18407241602925,
          10.184624384683378,
          10.189494132956748,
          10.19134391190429,
          10.19172650244262,
          10.192860759180055,
          10.19349665132542,
          10.195226520863413,
          10.195278690711664,
          10.195457598657196,
          10.193208827027286,
          10.176955833333333,
          10.193111596154104,
          10.192126720343502,
          10.177467733333334,
          10.177815416666666,
          10.18648517283857,
          10.179096916666667,
          10.179510283333334,
          10.181041916666668,
          10.201164163752486,
          10.1814191,
          10.20127240871418,
          10.181973466666667,
          10.183370333333333,
          10.1865986,
          10.186333066666666,
          10.1866904,
          10.220339883333333,
          10.220255866666667,
          10.220494083333334,
          10.220571666666666,
          10.220712566666666,
          10.2181114,
          10.222182833333331,
          10.222167233333334,
          10.22127805,
          10.22142145,
          10.217700216666668,
          10.1834821,
          10.183877116666666,
          10.1841577,
          10.18309495,
          10.1802799,
          10.21259155,
          10.180181433333331,
          10.211114416666666,
          10.21091635,
          10.2124112,
          10.176505616666669,
          10.21591,
          10.176165183333334,
          10.215382283333334,
          10.175772483333333,
          10.2136583,
          10.175783166666667,
          10.213701383333332,
          10.1678914,
          10.208096983333334,
          10.2085901,
          10.169673316666668,
          10.164129883333333,
          10.207459733333334,
          10.20743185,
          10.207466033333333,
          10.165859533333334,
          10.2072688,
          10.158209533333334,
          10.203316766666669,
          10.15823515,
          10.20329595,
          10.160386233333334,
          10.202919183333334,
          10.161290083333334,
          10.196746566666668,
          10.159759633333334,
          10.1879143,
          10.187466866666666,
          10.188261133333333,
          10.18824595,
          10.171673333333333,
          10.197119283333333,
          10.1891793,
          10.188818,
          10.1880309,
          10.1837658,
          10.183959416666667,
          10.18425865,
          10.1845634,
          10.18295765,
          10.188007066666668,
          10.19161095,
          10.191733,
          10.185722116666666,
          10.1981963,
          10.1996226,
          10.1948606,
          10.201859666666667,
          10.19687745,
          10.196756683333334,
          10.196736683333333,
          10.196715933333332,
          10.19618655,
          10.198261766666668,
          10.20160025,
          10.201459283333334,
          10.201229633333334,
          10.210499066666667,
          10.220278816666667,
          10.220143733333334,
          10.2196314,
          10.217984533333333,
          10.217959933333333,
          10.217554066666668,
          10.217490633333334,
          10.20993655,
          10.206245016666667,
          10.2058662,
          10.207901383333333
         ],
         "marker": {
          "color": "#636efa"
         },
         "mode": "markers",
         "name": "",
         "showlegend": false,
         "subplot": "mapbox",
         "type": "scattermapbox"
        }
       ],
       "layout": {
        "coloraxis": {
         "colorbar": {
          "title": {
           "text": "vehiclecount"
          }
         },
         "colorscale": [
          [
           0,
           "#0d0887"
          ],
          [
           0.1111111111111111,
           "#46039f"
          ],
          [
           0.2222222222222222,
           "#7201a8"
          ],
          [
           0.3333333333333333,
           "#9c179e"
          ],
          [
           0.4444444444444444,
           "#bd3786"
          ],
          [
           0.5555555555555556,
           "#d8576b"
          ],
          [
           0.6666666666666666,
           "#ed7953"
          ],
          [
           0.7777777777777778,
           "#fb9f3a"
          ],
          [
           0.8888888888888888,
           "#fdca26"
          ],
          [
           1,
           "#f0f921"
          ]
         ]
        },
        "height": 800,
        "legend": {
         "itemsizing": "constant",
         "tracegroupgap": 0
        },
        "mapbox": {
         "accesstoken": "pk.eyJ1Ijoic2FicmluYXN6aCIsImEiOiJjbHRlNmI0NGowY2dwMmlwYjRoOTF4ZTduIn0.-3Vn9tr775gdT5ljg4JlKw",
         "center": {
          "lat": 56.15498743769069,
          "lon": 10.161650480467946
         },
         "domain": {
          "x": [
           0,
           1
          ],
          "y": [
           0,
           1
          ]
         },
         "style": "carto-positron",
         "zoom": 12
        },
        "template": {
         "data": {
          "bar": [
           {
            "error_x": {
             "color": "#2a3f5f"
            },
            "error_y": {
             "color": "#2a3f5f"
            },
            "marker": {
             "line": {
              "color": "#E5ECF6",
              "width": 0.5
             },
             "pattern": {
              "fillmode": "overlay",
              "size": 10,
              "solidity": 0.2
             }
            },
            "type": "bar"
           }
          ],
          "barpolar": [
           {
            "marker": {
             "line": {
              "color": "#E5ECF6",
              "width": 0.5
             },
             "pattern": {
              "fillmode": "overlay",
              "size": 10,
              "solidity": 0.2
             }
            },
            "type": "barpolar"
           }
          ],
          "carpet": [
           {
            "aaxis": {
             "endlinecolor": "#2a3f5f",
             "gridcolor": "white",
             "linecolor": "white",
             "minorgridcolor": "white",
             "startlinecolor": "#2a3f5f"
            },
            "baxis": {
             "endlinecolor": "#2a3f5f",
             "gridcolor": "white",
             "linecolor": "white",
             "minorgridcolor": "white",
             "startlinecolor": "#2a3f5f"
            },
            "type": "carpet"
           }
          ],
          "choropleth": [
           {
            "colorbar": {
             "outlinewidth": 0,
             "ticks": ""
            },
            "type": "choropleth"
           }
          ],
          "contour": [
           {
            "colorbar": {
             "outlinewidth": 0,
             "ticks": ""
            },
            "colorscale": [
             [
              0,
              "#0d0887"
             ],
             [
              0.1111111111111111,
              "#46039f"
             ],
             [
              0.2222222222222222,
              "#7201a8"
             ],
             [
              0.3333333333333333,
              "#9c179e"
             ],
             [
              0.4444444444444444,
              "#bd3786"
             ],
             [
              0.5555555555555556,
              "#d8576b"
             ],
             [
              0.6666666666666666,
              "#ed7953"
             ],
             [
              0.7777777777777778,
              "#fb9f3a"
             ],
             [
              0.8888888888888888,
              "#fdca26"
             ],
             [
              1,
              "#f0f921"
             ]
            ],
            "type": "contour"
           }
          ],
          "contourcarpet": [
           {
            "colorbar": {
             "outlinewidth": 0,
             "ticks": ""
            },
            "type": "contourcarpet"
           }
          ],
          "heatmap": [
           {
            "colorbar": {
             "outlinewidth": 0,
             "ticks": ""
            },
            "colorscale": [
             [
              0,
              "#0d0887"
             ],
             [
              0.1111111111111111,
              "#46039f"
             ],
             [
              0.2222222222222222,
              "#7201a8"
             ],
             [
              0.3333333333333333,
              "#9c179e"
             ],
             [
              0.4444444444444444,
              "#bd3786"
             ],
             [
              0.5555555555555556,
              "#d8576b"
             ],
             [
              0.6666666666666666,
              "#ed7953"
             ],
             [
              0.7777777777777778,
              "#fb9f3a"
             ],
             [
              0.8888888888888888,
              "#fdca26"
             ],
             [
              1,
              "#f0f921"
             ]
            ],
            "type": "heatmap"
           }
          ],
          "heatmapgl": [
           {
            "colorbar": {
             "outlinewidth": 0,
             "ticks": ""
            },
            "colorscale": [
             [
              0,
              "#0d0887"
             ],
             [
              0.1111111111111111,
              "#46039f"
             ],
             [
              0.2222222222222222,
              "#7201a8"
             ],
             [
              0.3333333333333333,
              "#9c179e"
             ],
             [
              0.4444444444444444,
              "#bd3786"
             ],
             [
              0.5555555555555556,
              "#d8576b"
             ],
             [
              0.6666666666666666,
              "#ed7953"
             ],
             [
              0.7777777777777778,
              "#fb9f3a"
             ],
             [
              0.8888888888888888,
              "#fdca26"
             ],
             [
              1,
              "#f0f921"
             ]
            ],
            "type": "heatmapgl"
           }
          ],
          "histogram": [
           {
            "marker": {
             "pattern": {
              "fillmode": "overlay",
              "size": 10,
              "solidity": 0.2
             }
            },
            "type": "histogram"
           }
          ],
          "histogram2d": [
           {
            "colorbar": {
             "outlinewidth": 0,
             "ticks": ""
            },
            "colorscale": [
             [
              0,
              "#0d0887"
             ],
             [
              0.1111111111111111,
              "#46039f"
             ],
             [
              0.2222222222222222,
              "#7201a8"
             ],
             [
              0.3333333333333333,
              "#9c179e"
             ],
             [
              0.4444444444444444,
              "#bd3786"
             ],
             [
              0.5555555555555556,
              "#d8576b"
             ],
             [
              0.6666666666666666,
              "#ed7953"
             ],
             [
              0.7777777777777778,
              "#fb9f3a"
             ],
             [
              0.8888888888888888,
              "#fdca26"
             ],
             [
              1,
              "#f0f921"
             ]
            ],
            "type": "histogram2d"
           }
          ],
          "histogram2dcontour": [
           {
            "colorbar": {
             "outlinewidth": 0,
             "ticks": ""
            },
            "colorscale": [
             [
              0,
              "#0d0887"
             ],
             [
              0.1111111111111111,
              "#46039f"
             ],
             [
              0.2222222222222222,
              "#7201a8"
             ],
             [
              0.3333333333333333,
              "#9c179e"
             ],
             [
              0.4444444444444444,
              "#bd3786"
             ],
             [
              0.5555555555555556,
              "#d8576b"
             ],
             [
              0.6666666666666666,
              "#ed7953"
             ],
             [
              0.7777777777777778,
              "#fb9f3a"
             ],
             [
              0.8888888888888888,
              "#fdca26"
             ],
             [
              1,
              "#f0f921"
             ]
            ],
            "type": "histogram2dcontour"
           }
          ],
          "mesh3d": [
           {
            "colorbar": {
             "outlinewidth": 0,
             "ticks": ""
            },
            "type": "mesh3d"
           }
          ],
          "parcoords": [
           {
            "line": {
             "colorbar": {
              "outlinewidth": 0,
              "ticks": ""
             }
            },
            "type": "parcoords"
           }
          ],
          "pie": [
           {
            "automargin": true,
            "type": "pie"
           }
          ],
          "scatter": [
           {
            "fillpattern": {
             "fillmode": "overlay",
             "size": 10,
             "solidity": 0.2
            },
            "type": "scatter"
           }
          ],
          "scatter3d": [
           {
            "line": {
             "colorbar": {
              "outlinewidth": 0,
              "ticks": ""
             }
            },
            "marker": {
             "colorbar": {
              "outlinewidth": 0,
              "ticks": ""
             }
            },
            "type": "scatter3d"
           }
          ],
          "scattercarpet": [
           {
            "marker": {
             "colorbar": {
              "outlinewidth": 0,
              "ticks": ""
             }
            },
            "type": "scattercarpet"
           }
          ],
          "scattergeo": [
           {
            "marker": {
             "colorbar": {
              "outlinewidth": 0,
              "ticks": ""
             }
            },
            "type": "scattergeo"
           }
          ],
          "scattergl": [
           {
            "marker": {
             "colorbar": {
              "outlinewidth": 0,
              "ticks": ""
             }
            },
            "type": "scattergl"
           }
          ],
          "scattermapbox": [
           {
            "marker": {
             "colorbar": {
              "outlinewidth": 0,
              "ticks": ""
             }
            },
            "type": "scattermapbox"
           }
          ],
          "scatterpolar": [
           {
            "marker": {
             "colorbar": {
              "outlinewidth": 0,
              "ticks": ""
             }
            },
            "type": "scatterpolar"
           }
          ],
          "scatterpolargl": [
           {
            "marker": {
             "colorbar": {
              "outlinewidth": 0,
              "ticks": ""
             }
            },
            "type": "scatterpolargl"
           }
          ],
          "scatterternary": [
           {
            "marker": {
             "colorbar": {
              "outlinewidth": 0,
              "ticks": ""
             }
            },
            "type": "scatterternary"
           }
          ],
          "surface": [
           {
            "colorbar": {
             "outlinewidth": 0,
             "ticks": ""
            },
            "colorscale": [
             [
              0,
              "#0d0887"
             ],
             [
              0.1111111111111111,
              "#46039f"
             ],
             [
              0.2222222222222222,
              "#7201a8"
             ],
             [
              0.3333333333333333,
              "#9c179e"
             ],
             [
              0.4444444444444444,
              "#bd3786"
             ],
             [
              0.5555555555555556,
              "#d8576b"
             ],
             [
              0.6666666666666666,
              "#ed7953"
             ],
             [
              0.7777777777777778,
              "#fb9f3a"
             ],
             [
              0.8888888888888888,
              "#fdca26"
             ],
             [
              1,
              "#f0f921"
             ]
            ],
            "type": "surface"
           }
          ],
          "table": [
           {
            "cells": {
             "fill": {
              "color": "#EBF0F8"
             },
             "line": {
              "color": "white"
             }
            },
            "header": {
             "fill": {
              "color": "#C8D4E3"
             },
             "line": {
              "color": "white"
             }
            },
            "type": "table"
           }
          ]
         },
         "layout": {
          "annotationdefaults": {
           "arrowcolor": "#2a3f5f",
           "arrowhead": 0,
           "arrowwidth": 1
          },
          "autotypenumbers": "strict",
          "coloraxis": {
           "colorbar": {
            "outlinewidth": 0,
            "ticks": ""
           }
          },
          "colorscale": {
           "diverging": [
            [
             0,
             "#8e0152"
            ],
            [
             0.1,
             "#c51b7d"
            ],
            [
             0.2,
             "#de77ae"
            ],
            [
             0.3,
             "#f1b6da"
            ],
            [
             0.4,
             "#fde0ef"
            ],
            [
             0.5,
             "#f7f7f7"
            ],
            [
             0.6,
             "#e6f5d0"
            ],
            [
             0.7,
             "#b8e186"
            ],
            [
             0.8,
             "#7fbc41"
            ],
            [
             0.9,
             "#4d9221"
            ],
            [
             1,
             "#276419"
            ]
           ],
           "sequential": [
            [
             0,
             "#0d0887"
            ],
            [
             0.1111111111111111,
             "#46039f"
            ],
            [
             0.2222222222222222,
             "#7201a8"
            ],
            [
             0.3333333333333333,
             "#9c179e"
            ],
            [
             0.4444444444444444,
             "#bd3786"
            ],
            [
             0.5555555555555556,
             "#d8576b"
            ],
            [
             0.6666666666666666,
             "#ed7953"
            ],
            [
             0.7777777777777778,
             "#fb9f3a"
            ],
            [
             0.8888888888888888,
             "#fdca26"
            ],
            [
             1,
             "#f0f921"
            ]
           ],
           "sequentialminus": [
            [
             0,
             "#0d0887"
            ],
            [
             0.1111111111111111,
             "#46039f"
            ],
            [
             0.2222222222222222,
             "#7201a8"
            ],
            [
             0.3333333333333333,
             "#9c179e"
            ],
            [
             0.4444444444444444,
             "#bd3786"
            ],
            [
             0.5555555555555556,
             "#d8576b"
            ],
            [
             0.6666666666666666,
             "#ed7953"
            ],
            [
             0.7777777777777778,
             "#fb9f3a"
            ],
            [
             0.8888888888888888,
             "#fdca26"
            ],
            [
             1,
             "#f0f921"
            ]
           ]
          },
          "colorway": [
           "#636efa",
           "#EF553B",
           "#00cc96",
           "#ab63fa",
           "#FFA15A",
           "#19d3f3",
           "#FF6692",
           "#B6E880",
           "#FF97FF",
           "#FECB52"
          ],
          "font": {
           "color": "#2a3f5f"
          },
          "geo": {
           "bgcolor": "white",
           "lakecolor": "white",
           "landcolor": "#E5ECF6",
           "showlakes": true,
           "showland": true,
           "subunitcolor": "white"
          },
          "hoverlabel": {
           "align": "left"
          },
          "hovermode": "closest",
          "mapbox": {
           "style": "light"
          },
          "paper_bgcolor": "white",
          "plot_bgcolor": "#E5ECF6",
          "polar": {
           "angularaxis": {
            "gridcolor": "white",
            "linecolor": "white",
            "ticks": ""
           },
           "bgcolor": "#E5ECF6",
           "radialaxis": {
            "gridcolor": "white",
            "linecolor": "white",
            "ticks": ""
           }
          },
          "scene": {
           "xaxis": {
            "backgroundcolor": "#E5ECF6",
            "gridcolor": "white",
            "gridwidth": 2,
            "linecolor": "white",
            "showbackground": true,
            "ticks": "",
            "zerolinecolor": "white"
           },
           "yaxis": {
            "backgroundcolor": "#E5ECF6",
            "gridcolor": "white",
            "gridwidth": 2,
            "linecolor": "white",
            "showbackground": true,
            "ticks": "",
            "zerolinecolor": "white"
           },
           "zaxis": {
            "backgroundcolor": "#E5ECF6",
            "gridcolor": "white",
            "gridwidth": 2,
            "linecolor": "white",
            "showbackground": true,
            "ticks": "",
            "zerolinecolor": "white"
           }
          },
          "shapedefaults": {
           "line": {
            "color": "#2a3f5f"
           }
          },
          "ternary": {
           "aaxis": {
            "gridcolor": "white",
            "linecolor": "white",
            "ticks": ""
           },
           "baxis": {
            "gridcolor": "white",
            "linecolor": "white",
            "ticks": ""
           },
           "bgcolor": "#E5ECF6",
           "caxis": {
            "gridcolor": "white",
            "linecolor": "white",
            "ticks": ""
           }
          },
          "title": {
           "x": 0.05
          },
          "xaxis": {
           "automargin": true,
           "gridcolor": "white",
           "linecolor": "white",
           "ticks": "",
           "title": {
            "standoff": 15
           },
           "zerolinecolor": "white",
           "zerolinewidth": 2
          },
          "yaxis": {
           "automargin": true,
           "gridcolor": "white",
           "linecolor": "white",
           "ticks": "",
           "title": {
            "standoff": 15
           },
           "zerolinecolor": "white",
           "zerolinewidth": 2
          }
         }
        },
        "title": {
         "text": "Traffic Data (2024-03-22 07:15:00) and Shelters."
        },
        "width": 1200
       }
      }
     },
     "metadata": {},
     "output_type": "display_data"
    }
   ],
   "source": [
    "# Create a DataFrame with the required columns for traffic data\n",
    "map_data = merged_data[['POINT_2_LAT', 'POINT_2_LNG', 'vehicleCount']].copy()\n",
    "map_data.columns = map(str.lower, map_data.columns)\n",
    "\n",
    "# Create a DataFrame for shelters with latitude and longitude\n",
    "shelter_data['lat'] = shelter_data.geometry.y\n",
    "shelter_data['lng'] = shelter_data.geometry.x\n",
    "\n",
    "# Create a scatter mapbox plot for traffic data\n",
    "fig = px.scatter_mapbox(\n",
    "    map_data,\n",
    "    lat=\"point_2_lat\",\n",
    "    lon=\"point_2_lng\",\n",
    "    size=\"vehiclecount\",\n",
    "    color=\"vehiclecount\",\n",
    "    hover_name=\"vehiclecount\",\n",
    "    zoom=12,\n",
    "    height=800,\n",
    "    width=1200,\n",
    "    mapbox_style=\"carto-positron\",\n",
    "    title=\"Traffic Data (2024-03-22 07:15:00) and Shelters.\"\n",
    ")\n",
    "\n",
    "# Add shelter data to the map\n",
    "fig.add_trace(px.scatter_mapbox(\n",
    "    shelter_data,\n",
    "    lat=\"lat\",\n",
    "    lon=\"lng\",\n",
    "    hover_name=\"identifier\"\n",
    ").data[0])\n",
    "\n",
    "# Set your Mapbox token\n",
    "fig.update_layout(mapbox_accesstoken=\"your-token\")\n",
    "\n",
    "# Show the plot\n",
    "fig.show()"
   ]
  }
 ],
 "metadata": {
  "kernelspec": {
   "display_name": "Python 3",
   "language": "python",
   "name": "python3"
  },
  "language_info": {
   "codemirror_mode": {
    "name": "ipython",
    "version": 3
   },
   "file_extension": ".py",
   "mimetype": "text/x-python",
   "name": "python",
   "nbconvert_exporter": "python",
   "pygments_lexer": "ipython3",
   "version": "3.11.9"
  }
 },
 "nbformat": 4,
 "nbformat_minor": 5
}
